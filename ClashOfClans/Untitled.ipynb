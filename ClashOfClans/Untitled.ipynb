{
 "cells": [
  {
   "cell_type": "code",
   "execution_count": 2,
   "id": "72a35ff6-4ae6-4802-b58f-1b0cc55a7491",
   "metadata": {},
   "outputs": [
    {
     "name": "stdout",
     "output_type": "stream",
     "text": [
      "Player with tag YQ8PYQU0u  found.\n",
      "<bound method Response.json of <Response [200]>>\n",
      "\n"
     ]
    }
   ],
   "source": [
    "import creds\n",
    "import requests\n",
    "import json\n",
    "# print(creds.token)\n",
    "\n",
    "headers = {\n",
    "    'Accept': 'application/json',\n",
    "    \"Authorization\": \"Bearer \"+creds.token\n",
    "}\n",
    "\n",
    "\n",
    "def search_player(id):\n",
    "    url = 'https://api.clashofclans.com/v1/players/%23'+id\n",
    "\n",
    "    response = requests.get(url,headers = headers)\n",
    "    # print(response.status_code)\n",
    "\n",
    "    if(response.status_code==200):\n",
    "        print(f\"Player with tag {id}  found.\")\n",
    "\n",
    "        details = response.json\n",
    "        # print(details['name'])\n",
    "        print(details)\n",
    "\n",
    "    \n",
    "    else:\n",
    "        print(f\"Player with tag {id} not found.\")\n",
    "\n",
    "    return \"\"\n",
    "\n",
    "print(search_player(\"YQ8PYQU0u\"))"
   ]
  },
  {
   "cell_type": "code",
   "execution_count": 3,
   "id": "75ee4e4e-38ed-43dc-9a63-9e4bc0c7f3e2",
   "metadata": {},
   "outputs": [
    {
     "ename": "NameError",
     "evalue": "name 'details' is not defined",
     "output_type": "error",
     "traceback": [
      "\u001b[1;31m---------------------------------------------------------------------------\u001b[0m",
      "\u001b[1;31mNameError\u001b[0m                                 Traceback (most recent call last)",
      "Cell \u001b[1;32mIn[3], line 1\u001b[0m\n\u001b[1;32m----> 1\u001b[0m \u001b[43mdetails\u001b[49m\n",
      "\u001b[1;31mNameError\u001b[0m: name 'details' is not defined"
     ]
    }
   ],
   "source": [
    "details"
   ]
  },
  {
   "cell_type": "code",
   "execution_count": 4,
   "id": "701063b8-1840-45e5-898a-11f6970ac8cb",
   "metadata": {},
   "outputs": [
    {
     "ename": "NameError",
     "evalue": "name 'url' is not defined",
     "output_type": "error",
     "traceback": [
      "\u001b[1;31m---------------------------------------------------------------------------\u001b[0m",
      "\u001b[1;31mNameError\u001b[0m                                 Traceback (most recent call last)",
      "Cell \u001b[1;32mIn[4], line 1\u001b[0m\n\u001b[1;32m----> 1\u001b[0m response \u001b[38;5;241m=\u001b[39m requests\u001b[38;5;241m.\u001b[39mget(\u001b[43murl\u001b[49m,headers \u001b[38;5;241m=\u001b[39m headers)\n",
      "\u001b[1;31mNameError\u001b[0m: name 'url' is not defined"
     ]
    }
   ],
   "source": [
    "response = requests.get(url,headers = headers)"
   ]
  },
  {
   "cell_type": "code",
   "execution_count": 6,
   "id": "4a0199af-55f7-4701-abae-73b8b0cf159f",
   "metadata": {},
   "outputs": [],
   "source": [
    "url = 'https://api.clashofclans.com/v1/players/%23'+ 'YQ8PYQU0U'\n",
    "response = requests.get(url,headers = headers)"
   ]
  },
  {
   "cell_type": "code",
   "execution_count": 11,
   "id": "2fbddfa4-0c01-4f48-8c6f-a33481eaed83",
   "metadata": {},
   "outputs": [],
   "source": [
    "details = response.json()"
   ]
  },
  {
   "cell_type": "code",
   "execution_count": 13,
   "id": "0888f4da-e381-4d4f-9dc3-d7fd6eccbc9b",
   "metadata": {},
   "outputs": [
    {
     "data": {
      "text/plain": [
       "dict"
      ]
     },
     "execution_count": 13,
     "metadata": {},
     "output_type": "execute_result"
    }
   ],
   "source": [
    "type(details)"
   ]
  },
  {
   "cell_type": "code",
   "execution_count": 14,
   "id": "e877ae72-fa1c-49ef-941e-491306407f8d",
   "metadata": {},
   "outputs": [
    {
     "ename": "KeyError",
     "evalue": "0",
     "output_type": "error",
     "traceback": [
      "\u001b[1;31m---------------------------------------------------------------------------\u001b[0m",
      "\u001b[1;31mKeyError\u001b[0m                                  Traceback (most recent call last)",
      "Cell \u001b[1;32mIn[14], line 1\u001b[0m\n\u001b[1;32m----> 1\u001b[0m \u001b[43mdetails\u001b[49m\u001b[43m[\u001b[49m\u001b[38;5;241;43m0\u001b[39;49m\u001b[43m]\u001b[49m\n",
      "\u001b[1;31mKeyError\u001b[0m: 0"
     ]
    }
   ],
   "source": [
    "details[0]"
   ]
  },
  {
   "cell_type": "code",
   "execution_count": 16,
   "id": "68c313d5-d2c0-435a-8e08-655808c39020",
   "metadata": {},
   "outputs": [
    {
     "name": "stdout",
     "output_type": "stream",
     "text": [
      "tag\n",
      "name\n",
      "townHallLevel\n",
      "townHallWeaponLevel\n",
      "expLevel\n",
      "trophies\n",
      "bestTrophies\n",
      "warStars\n",
      "attackWins\n",
      "defenseWins\n",
      "builderHallLevel\n",
      "builderBaseTrophies\n",
      "bestBuilderBaseTrophies\n",
      "role\n",
      "warPreference\n",
      "donations\n",
      "donationsReceived\n",
      "clanCapitalContributions\n",
      "clan\n",
      "league\n",
      "builderBaseLeague\n",
      "achievements\n",
      "playerHouse\n",
      "labels\n",
      "troops\n",
      "heroes\n",
      "heroEquipment\n",
      "spells\n"
     ]
    }
   ],
   "source": [
    "for key in details:\n",
    "    print(key)"
   ]
  },
  {
   "cell_type": "code",
   "execution_count": 17,
   "id": "be704ad2-5b8b-403d-ab34-2ad3d4d20362",
   "metadata": {},
   "outputs": [
    {
     "data": {
      "text/plain": [
       "174"
      ]
     },
     "execution_count": 17,
     "metadata": {},
     "output_type": "execute_result"
    }
   ],
   "source": [
    "details['expLevel']"
   ]
  },
  {
   "cell_type": "code",
   "execution_count": null,
   "id": "169e46bc-e78b-42ff-a0c9-26dd2463ba90",
   "metadata": {},
   "outputs": [],
   "source": []
  }
 ],
 "metadata": {
  "kernelspec": {
   "display_name": "Python 3 (ipykernel)",
   "language": "python",
   "name": "python3"
  },
  "language_info": {
   "codemirror_mode": {
    "name": "ipython",
    "version": 3
   },
   "file_extension": ".py",
   "mimetype": "text/x-python",
   "name": "python",
   "nbconvert_exporter": "python",
   "pygments_lexer": "ipython3",
   "version": "3.12.2"
  }
 },
 "nbformat": 4,
 "nbformat_minor": 5
}
